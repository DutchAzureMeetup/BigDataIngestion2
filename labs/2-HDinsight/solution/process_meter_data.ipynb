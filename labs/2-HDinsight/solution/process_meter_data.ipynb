{
 "cells": [
  {
   "cell_type": "markdown",
   "metadata": {},
   "source": [
    "Hdfs file interactions to other storage account (configured through Ambari)"
   ]
  },
  {
   "cell_type": "code",
   "execution_count": null,
   "metadata": {
    "collapsed": false,
    "deletable": true,
    "editable": true
   },
   "outputs": [],
   "source": [
    "container_url = 'wasbs://meetup@pn123dev.blob.core.windows.net/'\n",
    "user = 'marcomansi80-eh-dev'\n",
    "folder = 'dambd/*/2017/02/*/*/*'\n",
    "\n",
    "!hdfs dfs -ls -R -h $container_url/$user/$folder | head -n10    "
   ]
  },
  {
   "cell_type": "code",
   "execution_count": null,
   "metadata": {
    "collapsed": false
   },
   "outputs": [],
   "source": [
    "!hdfs dfs -du -h wasbs://meetup@pn123dev.blob.core.windows.net/marcomansi80-eh-dev/"
   ]
  },
  {
   "cell_type": "code",
   "execution_count": null,
   "metadata": {
    "collapsed": false
   },
   "outputs": [],
   "source": [
    "!hdfs dfs -cat wasbs://meetup@pn123dev.blob.core.windows.net/marcomansi80-eh-dev/dambd/0/2017/02/22/09/10/26 | head -c 700    "
   ]
  },
  {
   "cell_type": "markdown",
   "metadata": {},
   "source": [
    "Now lets get started with a Spark Session:"
   ]
  },
  {
   "cell_type": "code",
   "execution_count": null,
   "metadata": {
    "collapsed": false,
    "deletable": true,
    "editable": true
   },
   "outputs": [],
   "source": [
    "import findspark\n",
    "findspark.init(spark_home='/usr/hdp/current/spark2-client/',\n",
    "               python_path='/usr/bin/anaconda/envs/py35/bin/python')\n",
    "\n",
    "import os\n",
    "from pyspark.sql import SparkSession\n",
    "\n",
    "spark = (\n",
    "    SparkSession\n",
    "    .builder\n",
    "#   .config('customproperty', 'customvalue')\n",
    "    .appName(os.environ['USER'])\n",
    "    .getOrCreate()\n",
    ")\n",
    "\n",
    "spark.version"
   ]
  },
  {
   "cell_type": "code",
   "execution_count": null,
   "metadata": {
    "collapsed": true,
    "deletable": true,
    "editable": true
   },
   "outputs": [],
   "source": [
    "# To free the resources on the cluster, please stop your session when finished.\n",
    "spark.stop()"
   ]
  },
  {
   "cell_type": "code",
   "execution_count": null,
   "metadata": {
    "collapsed": false,
    "deletable": true,
    "editable": true
   },
   "outputs": [],
   "source": [
    "hadoop_conf = spark.sparkContext._jsc.hadoopConfiguration()\n",
    "hadoop_conf.set('avro.mapred.ignore.inputs.without.extension', 'false')"
   ]
  },
  {
   "cell_type": "code",
   "execution_count": null,
   "metadata": {
    "collapsed": false,
    "deletable": true,
    "editable": true
   },
   "outputs": [],
   "source": [
    "input_sdf = (\n",
    "    spark.read.format(\"com.databricks.spark.avro\")\n",
    "    .load(container_url + os.sep + user + os.sep + folder)\n",
    ")"
   ]
  },
  {
   "cell_type": "code",
   "execution_count": null,
   "metadata": {
    "collapsed": false,
    "deletable": true,
    "editable": true
   },
   "outputs": [],
   "source": [
    "input_sdf.show(n=5)\n",
    "input_sdf.count()"
   ]
  },
  {
   "cell_type": "code",
   "execution_count": null,
   "metadata": {
    "collapsed": false,
    "deletable": true,
    "editable": true
   },
   "outputs": [],
   "source": [
    "from pyspark.sql import functions as F\n",
    "\n",
    "meter_sdf = (\n",
    "    input_sdf\n",
    "    .withColumn(\"Body\", F.col(\"Body\").astype('string'))\n",
    "    .withColumn(\"Datetime\", F.get_json_object('Body',\"$.Date\").astype('timestamp'))\n",
    "    .withColumn(\"ElectricityUsage\", F.get_json_object('Body', '$.ElectricityUsage').astype('integer'))\n",
    "    .withColumn(\"CustomerId\", F.get_json_object('Body', '$.CustomerId'))\n",
    "    .drop(\"Body\")\n",
    ")"
   ]
  },
  {
   "cell_type": "code",
   "execution_count": null,
   "metadata": {
    "collapsed": false,
    "deletable": true,
    "editable": true
   },
   "outputs": [],
   "source": [
    "# Cache the usable DataFrame: show the columns and 5 datapoints, count nr of records.\n",
    "meter_sdf.persist()\n",
    "meter_sdf.show(n=5)\n",
    "meter_sdf.count()"
   ]
  },
  {
   "cell_type": "markdown",
   "metadata": {},
   "source": [
    "Transform DataFrame into aggregation and visualize with a plot:"
   ]
  },
  {
   "cell_type": "code",
   "execution_count": null,
   "metadata": {
    "collapsed": false,
    "deletable": true,
    "editable": true
   },
   "outputs": [],
   "source": [
    "def to_date_hour(col):\n",
    "    return F.from_unixtime(F.round(F.unix_timestamp(col) / 3600) * 3600)\n",
    "\n",
    "def to_date_minute(col):\n",
    "    return F.from_unixtime(F.round(F.unix_timestamp(col) / 60) * 60)\n",
    "\n",
    "avg_per_date_sdf = (\n",
    "    meter_sdf\n",
    "    .withColumn('Date', to_date_minute(F.col('DateTime')))\n",
    "    .groupBy('Date')\n",
    "    .agg(F.mean('ElectricityUsage').alias(\"AvgElectricityUsage\"))\n",
    "    .sort('Date')\n",
    ")"
   ]
  },
  {
   "cell_type": "code",
   "execution_count": null,
   "metadata": {
    "collapsed": false,
    "deletable": true,
    "editable": true
   },
   "outputs": [],
   "source": [
    "avg_per_date_sdf.toPandas()"
   ]
  },
  {
   "cell_type": "code",
   "execution_count": null,
   "metadata": {
    "collapsed": false,
    "deletable": true,
    "editable": true
   },
   "outputs": [],
   "source": [
    "def plot_sdf(sdf, x, y):\n",
    "    sdf.toPandas().plot(x=x, y=y, rot=90, figsize=(18, 8))\n",
    "\n",
    "# Enable inline plotting of charts\n",
    "%matplotlib inline\n",
    "\n",
    "plot_sdf(avg_per_date_sdf, x='Date', y='AvgElectricityUsage')"
   ]
  },
  {
   "cell_type": "markdown",
   "metadata": {},
   "source": [
    "Spark SQL example:"
   ]
  },
  {
   "cell_type": "code",
   "execution_count": null,
   "metadata": {
    "collapsed": false,
    "deletable": true,
    "editable": true
   },
   "outputs": [],
   "source": [
    "meter_sdf.registerTempTable('meter_data')\n",
    "\n",
    "spark.sql(\"\"\"\n",
    "select\n",
    "    CustomerId,\n",
    "    date(DateTime) as date,\n",
    "    count(ElectricityUsage) as cnt,\n",
    "    min(ElectricityUsage) as max,\n",
    "    max(ElectricityUsage) as min,\n",
    "    avg(ElectricityUsage) as avg\n",
    "from\n",
    "    meter_data\n",
    "group by \n",
    "    date(DateTime),\n",
    "    CustomerId\n",
    "\"\"\").show()"
   ]
  }
 ],
 "metadata": {
  "kernelspec": {
   "display_name": "Python [conda root]",
   "language": "python",
   "name": "conda-root-py"
  },
  "language_info": {
   "codemirror_mode": {
    "name": "ipython",
    "version": 3
   },
   "file_extension": ".py",
   "mimetype": "text/x-python",
   "name": "python",
   "nbconvert_exporter": "python",
   "pygments_lexer": "ipython3",
   "version": "3.5.2"
  }
 },
 "nbformat": 4,
 "nbformat_minor": 2
}
